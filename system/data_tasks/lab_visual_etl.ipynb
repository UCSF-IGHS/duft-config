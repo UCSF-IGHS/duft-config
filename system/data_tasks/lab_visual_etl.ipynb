{
 "cells": [
  {
   "cell_type": "markdown",
   "id": "d8030239",
   "metadata": {},
   "source": [
    "# LAB VISUAL ETL TRANSFORMATION SCRIPT"
   ]
  },
  {
   "cell_type": "code",
   "execution_count": null,
   "id": "04aa1b74-2de0-427b-9961-1363d510d22e",
   "metadata": {},
   "outputs": [
    {
     "name": "stdout",
     "output_type": "stream",
     "text": [
      "[2025-04-30T12:15:04.575971] Tille Lab transformation - INFO: Tille Lab transformation initialised running in active mode\n",
      "Tille Lab transformation >>>: Tille Lab transformation initialised running in active mode\n",
      "[2025-04-30T12:15:04.596498] Tille Lab transformation - INFO: Started Tille Lab Transformation 30/04/2025 12:15:04\n",
      "Tille Lab transformation >>>: Started Tille Lab Transformation 30/04/2025 12:15:04\n"
     ]
    }
   ],
   "source": [
    "import os\n",
    "import pyodbc\n",
    "import pandas as pd\n",
    "from sqlalchemy import create_engine\n",
    "from data_task_helpers import something\n",
    "from services.dte_tools.data_task_tools import assert_dte_tools_available, get_resolved_parameters_for_connection, initialise_data_task  # noqa: E402\n",
    "import nest_asyncio\n",
    "import asyncio\n",
    "import sys\n",
    "import time\n",
    "from datetime import datetime\n",
    "\n",
    "# Fix the Windows event loop warning BEFORE running the notebook\n",
    "if sys.platform.startswith(\"win\"):\n",
    "    try:\n",
    "        from asyncio import WindowsSelectorEventLoopPolicy\n",
    "        asyncio.set_event_loop_policy(WindowsSelectorEventLoopPolicy())\n",
    "    except ImportError:\n",
    "        pass\n",
    "    \n",
    "nest_asyncio.apply()\n",
    "params = {}\n",
    "\n",
    "if __name__ == \"__main__\":\n",
    "    environment = initialise_data_task(f\"Tille Lab transformation\", params=params)\n",
    "    params[\"sleep_time\"] = params.get(\"sleep_time\", 1.5)\n",
    "\n",
    "environment.log_message(f\"Started Tille Lab Transformation {datetime.now().strftime('%d/%m/%Y %H:%M:%S')}\")\n",
    "time.sleep(params[\"sleep_time\"])"
   ]
  },
  {
   "cell_type": "markdown",
   "id": "1c9288ad",
   "metadata": {},
   "source": [
    "## Mysql Server Configuration"
   ]
  },
  {
   "cell_type": "code",
   "execution_count": null,
   "id": "00887142-fa91-4dd7-8e88-dc57ee552654",
   "metadata": {},
   "outputs": [
    {
     "name": "stdout",
     "output_type": "stream",
     "text": [
      "[2025-04-30T12:15:06.129904] Tille Lab transformation - INFO: connected successfully to tille lab database: labdashdb\n",
      "Tille Lab transformation >>>: connected successfully to tille lab database: labdashdb\n"
     ]
    }
   ],
   "source": [
    "labdashdb_config = {\n",
    "    \"USER\": \"root\",\n",
    "    \"PASSWORD\": \"root\",\n",
    "    \"HOST\": \"localhost\",\n",
    "    \"DB\": \"labdashdb\",\n",
    "    \"PORT\": \"3306\",\n",
    "}\n",
    "\n",
    "labdashdb_url = f\"mysql+pymysql://{labdashdb_config['USER']}:{labdashdb_config['PASSWORD']}@{labdashdb_config['HOST']}:{labdashdb_config['PORT']}/{labdashdb_config['DB']}\"\n",
    "\n",
    "try:\n",
    "    labdashdb_conn = create_engine(labdashdb_url)\n",
    "    environment.log_message(f\"connected successfully to tille lab database: {labdashdb_config['DB']}\")\n",
    "    time.sleep(params[\"sleep_time\"])\n",
    "    \n",
    "except Exception as e:\n",
    "    environment.log_error(f\"Error connecting to LabdashDB: {e}\")\n",
    "    sys.stdout.flush()\n",
    "    sys.exit(1) "
   ]
  },
  {
   "cell_type": "markdown",
   "id": "367f3ad2",
   "metadata": {},
   "source": [
    "## Mssql Server Configuration"
   ]
  },
  {
   "cell_type": "code",
   "execution_count": 32,
   "id": "64b559d7-be23-4355-995f-e97ef289b741",
   "metadata": {},
   "outputs": [],
   "source": [
    "def connect_to_database(database_name):\n",
    "    return pyodbc.connect(\n",
    "        f\"DRIVER={{ODBC Driver 17 for SQL Server}};\"\n",
    "        f\"SERVER=localhost;\"\n",
    "        f\"DATABASE={database_name};\"\n",
    "        f\"UID=sa;\"\n",
    "        f\"PWD=root.R00T;\"\n",
    "        f\"TrustServerCertificate=yes;\",\n",
    "        autocommit=True\n",
    "    )\n",
    "\n",
    "labvisualDB_conn = connect_to_database(\"master\")\n",
    "labvisualDB_cursor = labvisualDB_conn.cursor()"
   ]
  },
  {
   "cell_type": "markdown",
   "id": "ff887e06",
   "metadata": {},
   "source": [
    "## Create Schemas"
   ]
  },
  {
   "cell_type": "code",
   "execution_count": 33,
   "id": "f7885bb2",
   "metadata": {},
   "outputs": [],
   "source": [
    "def create_schemas():\n",
    "    try:\n",
    "        schemas = ['source', 'derived', 'final', 'z', 'dbo']\n",
    "        \n",
    "        for schema in schemas:\n",
    "            labvisualDB_cursor.execute(\n",
    "                f\"\"\"\n",
    "                    USE lab_visual_analysis;\n",
    "\n",
    "                    IF NOT EXISTS (SELECT * FROM sys.schemas WHERE name = '{schema}')\n",
    "                    BEGIN\n",
    "                        EXEC('CREATE SCHEMA {schema}');\n",
    "                    END\n",
    "                \"\"\"\n",
    "            )\n",
    "\n",
    "        labvisualDB_cursor.commit()\n",
    "        time.sleep(params[\"sleep_time\"])\n",
    "    except Exception as e:\n",
    "        environment.log_error(f\"Error creating schemas: {e}\")\n",
    "        labvisualDB_cursor.rollback()\n",
    "        sys.stdout.flush()\n",
    "        sys.exit(1)"
   ]
  },
  {
   "cell_type": "markdown",
   "id": "cefde184",
   "metadata": {},
   "source": [
    "## Create Tables in the lab_visual_analysis database"
   ]
  },
  {
   "cell_type": "code",
   "execution_count": 34,
   "id": "ef4cee3d",
   "metadata": {},
   "outputs": [],
   "source": [
    "def create_tables():\n",
    "    table_creation_queries = [\n",
    "        \"\"\"\n",
    "            IF NOT EXISTS (SELECT * FROM sys.tables WHERE name = 'tbl_Facilities' AND schema_id = SCHEMA_ID('source'))\n",
    "            CREATE TABLE source.tbl_Facilities (\n",
    "                Id INT IDENTITY(1,1) PRIMARY KEY,\n",
    "                HfrCode NVARCHAR(50),\n",
    "                Name NVARCHAR(255),\n",
    "                Region NVARCHAR(255),\n",
    "                District NVARCHAR(255),\n",
    "                Council NVARCHAR(255)\n",
    "            );\n",
    "        \"\"\",\n",
    "        \"\"\"\n",
    "            IF NOT EXISTS (SELECT * FROM sys.tables WHERE name = 'tbl_Device_Logs' AND schema_id = SCHEMA_ID('source'))\n",
    "            CREATE TABLE source.tbl_Device_Logs (\n",
    "                Id INT IDENTITY(1,1) PRIMARY KEY,\n",
    "                DeviceName NVARCHAR(255),\n",
    "                DeviceCode NVARCHAR(50),\n",
    "                DateBrokenDown DATETIME2,\n",
    "                DateReported DATETIME2,\n",
    "                DateFixed DATETIME2,\n",
    "                BreakDownReason NVARCHAR(255)\n",
    "            );\n",
    "        \"\"\",\n",
    "        \"\"\"\n",
    "            IF NOT EXISTS (SELECT * FROM sys.tables WHERE name = 'tbl_Commodity_Transactions' AND schema_id = SCHEMA_ID('source'))\n",
    "            CREATE TABLE source.tbl_Commodity_Transactions (\n",
    "                Id INT IDENTITY(1,1) PRIMARY KEY,\n",
    "                CommodityName NVARCHAR(255),\n",
    "                CommodityCode NVARCHAR(50),\n",
    "                BatchNumber NVARCHAR(50),\n",
    "                TransactionDate DATETIME2,\n",
    "                ExpireDate DATETIME2,\n",
    "                TransactionType NVARCHAR(50),\n",
    "                TransactionQuantity INT\n",
    "            );\n",
    "        \"\"\",\n",
    "        \"\"\"\n",
    "            IF NOT EXISTS (SELECT * FROM sys.tables WHERE name = 'tbl_Sample' AND schema_id = SCHEMA_ID('source'))\n",
    "            CREATE TABLE source.tbl_Sample (\n",
    "                Id INT IDENTITY(1,1) PRIMARY KEY,\n",
    "                sampletrackingid NVARCHAR(50),\n",
    "                LabHfrCode NVARCHAR(50),\n",
    "                HubHfrCode NVARCHAR(50),\n",
    "                EntryModality NVARCHAR(50),\n",
    "                SampleType NVARCHAR(255),\n",
    "                TestName NVARCHAR(255),   \n",
    "                SampleQualityStatus NVARCHAR(50),\n",
    "                Results NVARCHAR(255),\n",
    "                SampleRejectionReason NVARCHAR(255),\n",
    "                DeviceName NVARCHAR(255),\n",
    "                DeviceCode NVARCHAR(50),\n",
    "                CollectionDate DATETIME2,\n",
    "                ReceivedDate DATETIME2,\n",
    "                TestDate DATETIME2,\n",
    "                AuthorisedDate DATETIME2,\n",
    "                DispatchDate DATETIME2\n",
    "            );\n",
    "        \"\"\"\n",
    "    ]\n",
    "\n",
    "    for query in table_creation_queries:\n",
    "        try:\n",
    "            labvisualDB_cursor.execute(query)\n",
    "        except Exception as e:\n",
    "            environment.log_error(f\"Error creating table: {e}\")\n",
    "\n",
    "    labvisualDB_cursor.commit()\n",
    "    time.sleep(params[\"sleep_time\"])\n"
   ]
  },
  {
   "cell_type": "markdown",
   "id": "5ef8274b",
   "metadata": {},
   "source": [
    "## Create lab_visual_analysis database"
   ]
  },
  {
   "cell_type": "code",
   "execution_count": 35,
   "id": "9000c5e5",
   "metadata": {},
   "outputs": [
    {
     "name": "stdout",
     "output_type": "stream",
     "text": [
      "[2025-04-30T12:15:07.713032] Tille Lab transformation - INFO: Preparing Lab Visual Database\n",
      "Tille Lab transformation >>>: Preparing Lab Visual Database\n",
      "[2025-04-30T12:15:09.260110] Tille Lab transformation - INFO: Truncating LabVisual database tables\n",
      "Tille Lab transformation >>>: Truncating LabVisual database tables\n",
      "[2025-04-30T12:15:09.276366] Tille Lab transformation - INFO: Lab Visual Database preparation complete\n",
      "Tille Lab transformation >>>: Lab Visual Database preparation complete\n"
     ]
    }
   ],
   "source": [
    "def create_lab_visual_analysis_database():\n",
    "    global labvisualDB_conn, labvisualDB_cursor\n",
    "    \n",
    "    try:\n",
    "        environment.log_message(\"Preparing Lab Visual Database\")\n",
    "        time.sleep(params[\"sleep_time\"])\n",
    "        \n",
    "        labvisualDB_cursor.execute(\"SELECT name FROM sys.databases WHERE name = 'lab_visual_analysis'\")\n",
    "        labvisualDB_exists = labvisualDB_cursor.fetchone()\n",
    "\n",
    "        if labvisualDB_exists:\n",
    "            environment.log_message(\"Truncating LabVisual database tables\")\n",
    "            tables = [\"tbl_Facilities\", \"tbl_Device_Logs\", \"tbl_Commodity_Transactions\", \"tbl_Sample\"]\n",
    "\n",
    "            for table in tables:\n",
    "                try:\n",
    "                    labvisualDB_cursor.execute(f\"\"\"\n",
    "                        IF OBJECT_ID('source.{table}', 'U') IS NOT NULL\n",
    "                            TRUNCATE TABLE source.{table}\n",
    "                    \"\"\")\n",
    "\n",
    "                except Exception as e:\n",
    "                    environment.log_error(f\"Error truncating table {table}: {e}\")\n",
    "                    labvisualDB_conn.rollback()\n",
    "                    sys.stdout.flush()\n",
    "                    sys.exit(1)\n",
    "\n",
    "            labvisualDB_conn.commit()\n",
    "            environment.log_message(\"Lab Visual Database preparation complete\")\n",
    "        else:\n",
    "            labvisualDB_conn.execute(\"CREATE DATABASE lab_visual_analysis\")\n",
    "            labvisualDB_conn.commit()\n",
    "            \n",
    "            labvisualDB_conn = connect_to_database(\"lab_visual_analysis\")\n",
    "            labvisualDB_cursor = labvisualDB_conn.cursor()\n",
    "\n",
    "            environment.log_message(\"Create Schemas\")\n",
    "            create_schemas()\n",
    "\n",
    "            environment.log_message(\"Create Tables\")\n",
    "            create_tables()\n",
    "\n",
    "            environment.log_message(\"Lab Visual Database preparation complete\")\n",
    "    except Exception as e:\n",
    "        environment.log_error(f\"Failed to prepare database: {e}\")\n",
    "        labvisualDB_conn.rollback()\n",
    "        sys.stdout.flush()\n",
    "        sys.exit(1)\n",
    "\n",
    "create_lab_visual_analysis_database()"
   ]
  },
  {
   "cell_type": "markdown",
   "id": "ae8476c2",
   "metadata": {},
   "source": [
    "## Load Facility Data"
   ]
  },
  {
   "cell_type": "code",
   "execution_count": null,
   "id": "8f733713",
   "metadata": {},
   "outputs": [
    {
     "name": "stdout",
     "output_type": "stream",
     "text": [
      "[2025-04-30T12:15:25.229053] Tille Lab transformation - INFO: 11401 rows inserted into tbl_Facilities.\n",
      "Tille Lab transformation >>>: 11401 rows inserted into tbl_Facilities.\n"
     ]
    }
   ],
   "source": [
    "def extract_and_insert_facility_data():\n",
    "    health_facilities_masterlist = \"./All_Operating_Health_Facilities_in_Tanzania-Lab-Visual-2021oct22.xlsx\"\n",
    "    \n",
    "    if not os.path.exists(health_facilities_masterlist):\n",
    "        environment.log_error(f\"Excel file '{health_facilities_masterlist}' not found.\")\n",
    "        sys.stdout.flush()\n",
    "        sys.exit(1)\n",
    "    \n",
    "    df_excel = pd.read_excel(health_facilities_masterlist)\n",
    "    df_excel.rename(columns={\"Facility Number\": \"HfrCode\", \"Facility Name\": \"Name\"}, inplace=True)\n",
    "    df_excel = df_excel[['HfrCode', 'Name', 'Region', 'District', 'Council']]\n",
    "    df_excel['Region'] = df_excel['Region'].str.replace(\"Region\", \"\", regex=True).str.strip()\n",
    "    \n",
    "    mysql_query = \"\"\"\n",
    "        SELECT\n",
    "            mohswid AS HfrCode,\n",
    "            facilityname AS Name,\n",
    "            regionname AS Region,\n",
    "            districtname AS District,\n",
    "            council AS Council\n",
    "        FROM hubfacilities\n",
    "    \"\"\"\n",
    "\n",
    "    try:\n",
    "        df_mysql = pd.read_sql(mysql_query, labdashdb_conn)\n",
    "    except Exception as e:\n",
    "        environment.log_error(f\"Error fetching data from MySQL: {e}\")\n",
    "        sys.stdout.flush()\n",
    "        sys.exit(1)\n",
    "    \n",
    "    # Merge the two datasets\n",
    "    df_combined = pd.concat([df_excel, df_mysql])\n",
    "    \n",
    "    # Remove duplicates based on HfrCode\n",
    "    df_combined.drop_duplicates(subset=['HfrCode'], keep='first', inplace=True)\n",
    "    \n",
    "    # Fetch existing HfrCodes to avoid primary key conflict\n",
    "    try:\n",
    "        existing_hfrcodes = pd.read_sql(\"SELECT HfrCode FROM source.tbl_Facilities\", labvisualDB_conn)\n",
    "        df_combined = df_combined[~df_combined['HfrCode'].isin(existing_hfrcodes['HfrCode'])]\n",
    "    except Exception as e:\n",
    "        environment.log_error(f\"Error checking existing HfrCodes: {e}\")\n",
    "        sys.stdout.flush()\n",
    "        sys.exit(1)\n",
    "\n",
    "    insert_query = \"\"\"\n",
    "        INSERT INTO source.tbl_Facilities (HfrCode, Name, Region, District, Council)\n",
    "        VALUES (?, ?, ?, ?, ?);\n",
    "    \"\"\"\n",
    "    \n",
    "    try:\n",
    "        for _, row in df_combined.iterrows():\n",
    "            labvisualDB_cursor.execute(insert_query, row['HfrCode'], row['Name'], row['Region'], row['District'], row['Council'])\n",
    "            \n",
    "        labvisualDB_conn.commit()\n",
    "        if len(df_combined) > 0:\n",
    "            environment.log_message(f\"{len(df_combined)} rows inserted into tbl_Facilities.\")\n",
    "            time.sleep(params[\"sleep_time\"])\n",
    "    except Exception as e:\n",
    "        environment.log_error(f\"Error inserting data: {e}\")\n",
    "        labvisualDB_conn.rollback()\n",
    "        sys.stdout.flush()\n",
    "        sys.exit(1)\n",
    "\n",
    "    time.sleep(params[\"sleep_time\"])\n",
    "\n",
    "extract_and_insert_facility_data()"
   ]
  },
  {
   "cell_type": "markdown",
   "id": "a9c0f41e",
   "metadata": {},
   "source": [
    "## Load Sample Data"
   ]
  },
  {
   "cell_type": "code",
   "execution_count": 37,
   "id": "7467a6c8",
   "metadata": {},
   "outputs": [
    {
     "name": "stdout",
     "output_type": "stream",
     "text": [
      "[2025-04-30T12:15:37.686123] Tille Lab transformation - INFO: 8933 row inserted into tbl_Sample.\n",
      "Tille Lab transformation >>>: 8933 row inserted into tbl_Sample.\n"
     ]
    }
   ],
   "source": [
    "def extract_and_insert_sample_data():\n",
    "    query = \"\"\"\n",
    "        SELECT \n",
    "            DISTINCT trackingID as sampletrackingid, \n",
    "            facilityHfrID, \n",
    "            sampleType as SampleType, \n",
    "            testName as TestName, \n",
    "            sampleQuality as SampleQualityStatus, \n",
    "            rejectionReason as SampleRejectionReason, \n",
    "            sampleCollectionDate as CollectionDate, \n",
    "            dateReceivedLab as ReceivedDate, \n",
    "            results as Results, \n",
    "            testedDate as TestDate, \n",
    "            resultAuthorisedDate as AuthorisedDate, \n",
    "            resultAuthorisedDate as DispatchDate,\n",
    "            testInstrument as DeviceName,\n",
    "            NULL as DeviceCode,\n",
    "            IF(SUBSTR(trackingID, 1, 4) = 'BC03', 'lab', 'hub') as EntryModality\n",
    "        FROM tbl_labtests\n",
    "        WHERE sampleCollectionDate >= DATE_SUB(CURDATE(), INTERVAL 2 MONTH)\n",
    "        OR dateSentLab >= DATE_SUB(CURDATE(), INTERVAL 2 MONTH)\n",
    "        OR dateReceivedLab >= DATE_SUB(CURDATE(), INTERVAL 2 MONTH)\n",
    "        OR registeredDate >= DATE_SUB(CURDATE(), INTERVAL 2 MONTH)\n",
    "        OR testedDate >= DATE_SUB(CURDATE(), INTERVAL 2 MONTH)\n",
    "        OR resultAuthorisedDate >= DATE_SUB(CURDATE(), INTERVAL 2 MONTH)\n",
    "        OR dateResultSentHub >= DATE_SUB(CURDATE(), INTERVAL 2 MONTH)\n",
    "    \"\"\"\n",
    "    \n",
    "    try:\n",
    "        sample_data = pd.read_sql(query, labdashdb_conn)\n",
    "        if sample_data.empty:\n",
    "            environment.log_error(\"No sample data found.\")\n",
    "            sys.stdout.flush()\n",
    "            sys.exit(1)\n",
    "\n",
    "        def extract_hfr_code(row):\n",
    "            if row['EntryModality'] == 'lab':\n",
    "                return row['facilityHfrID'], None\n",
    "            else:\n",
    "                return None, row['facilityHfrID']\n",
    "\n",
    "        sample_data[['LabHfrCode', 'HubHfrCode']] = sample_data.apply(extract_hfr_code, axis=1, result_type='expand')\n",
    "\n",
    "        for _, row in sample_data.iterrows():\n",
    "            insert_query = \"\"\"\n",
    "                INSERT INTO source.tbl_Sample (sampletrackingid, LabHfrCode, HubHfrCode, EntryModality, SampleType, \n",
    "                                            TestName, SampleQualityStatus, Results, SampleRejectionReason, DeviceName, \n",
    "                                            DeviceCode, CollectionDate, ReceivedDate, TestDate, AuthorisedDate, DispatchDate)\n",
    "                VALUES (?, ?, ?, ?, ?, ?, ?, ?, ?, ?, ?, ?, ?, ?, ?, ?)\n",
    "            \"\"\"\n",
    "            \n",
    "            labvisualDB_cursor.execute(insert_query, row['sampletrackingid'], row['LabHfrCode'], row['HubHfrCode'], \n",
    "                                row['EntryModality'], row['SampleType'], row['TestName'], row['SampleQualityStatus'], \n",
    "                                row['Results'], row['SampleRejectionReason'], row['DeviceName'], row['DeviceCode'], row['CollectionDate'], \n",
    "                                row['ReceivedDate'], row['TestDate'], row['AuthorisedDate'], row['DispatchDate'])\n",
    "        \n",
    "        labvisualDB_conn.commit()\n",
    "        if len(sample_data) > 0:\n",
    "            environment.log_message(f\"{len(sample_data)} row inserted into tbl_Sample.\")\n",
    "            time.sleep(params[\"sleep_time\"])\n",
    "\n",
    "    except Exception as e:\n",
    "        labvisualDB_conn.rollback()\n",
    "        environment.log_error(f\"Error inserting data: {e}\")\n",
    "\n",
    "extract_and_insert_sample_data()\n",
    "time.sleep(params[\"sleep_time\"])"
   ]
  },
  {
   "cell_type": "markdown",
   "id": "c485759a",
   "metadata": {},
   "source": [
    "## Load Device Logs Data"
   ]
  },
  {
   "cell_type": "code",
   "execution_count": 38,
   "id": "13fdf122",
   "metadata": {},
   "outputs": [],
   "source": [
    "def extract_and_insert_device_log_data():\n",
    "    query = \"\"\"\n",
    "        select\n",
    "            deviceName as DeviceName,\n",
    "            deviceCode as DeviceCode,\n",
    "            dateBreakDown as DateBrokenDown,\n",
    "            dateReported as DateReported,\n",
    "            dateFixed as DateFixed,\n",
    "            breakDownReason as BreakDownReason\n",
    "        from\n",
    "            instrumentlogs2\n",
    "    \"\"\"\n",
    "    \n",
    "    try:\n",
    "        device_logs = pd.read_sql(query, labdashdb_conn)\n",
    "        \n",
    "        insert_query = \"\"\"\n",
    "        INSERT INTO source.tbl_Device_Logs (DeviceName, DeviceCode, DateBrokenDown, DateReported, DateFixed, BreakDownReason)\n",
    "        VALUES (?, ?, ?, ?, ?, ?)\n",
    "        \"\"\"\n",
    "        \n",
    "        for _, row in device_logs.iterrows():\n",
    "            labvisualDB_cursor.execute(insert_query, row['DeviceName'], row['DeviceCode'], row['DateBrokenDown'], row['DateReported'], row['DateFixed'], row['BreakDownReason'])\n",
    "        \n",
    "        labvisualDB_conn.commit()\n",
    "        if len(device_logs) > 0:\n",
    "            environment.log_message(f\"{len(device_logs)} rows inserted into tbl_Device_Logs.\")\n",
    "            time.sleep(params[\"sleep_time\"])\n",
    "    except Exception as e:\n",
    "        environment.log_error(f\"Error fetching or inserting device logs: {e}\")\n",
    "        labvisualDB_conn.rollback()\n",
    "        sys.stdout.flush()\n",
    "        sys.exit(1)\n",
    "\n",
    "extract_and_insert_device_log_data()\n",
    "time.sleep(params[\"sleep_time\"])"
   ]
  },
  {
   "cell_type": "markdown",
   "id": "224e86f1",
   "metadata": {},
   "source": [
    "## Load Commodity Transaction Data"
   ]
  },
  {
   "cell_type": "code",
   "execution_count": 39,
   "id": "d05e2b0b",
   "metadata": {},
   "outputs": [],
   "source": [
    "def extract_and_insert_commodity_transaction_data():\n",
    "    query = \"\"\"SELECT commodityName AS CommodityName, commodityCode AS CommodityCode, batchNo AS BatchNumber, transactionDate AS TransactionDate, \n",
    "                    expireDate AS ExpireDate, transactionType AS TransactionType, quantity AS TransactionQuantity FROM commoditytransactions\"\"\"\n",
    "    \n",
    "    try:\n",
    "        commodity_transactions = pd.read_sql(query, labdashdb_conn)\n",
    "        \n",
    "        insert_query = \"\"\"\n",
    "            INSERT INTO source.tbl_Commodity_Transactions (CommodityName, CommodityCode, BatchNumber, TransactionDate, ExpireDate, TransactionType, TransactionQuantity)\n",
    "            VALUES (?, ?, ?, ?, ?, ?, ?)\n",
    "        \"\"\"\n",
    "        \n",
    "        for _, row in commodity_transactions.iterrows():\n",
    "            labvisualDB_cursor.execute(insert_query, row['CommodityName'], row['CommodityCode'], row['BatchNumber'], row['TransactionDate'],\n",
    "                                row['ExpireDate'], row['TransactionType'], row['TransactionQuantity'])\n",
    "        \n",
    "        labvisualDB_conn.commit()\n",
    "        if len(commodity_transactions) > 0:\n",
    "            environment.log_message(f\"{len(commodity_transactions)} rows inserted into tbl_Commodity_Transactions.\")\n",
    "            time.sleep(params[\"sleep_time\"])\n",
    "    \n",
    "    except Exception as e:\n",
    "        environment.log_error(f\"Error fetching or inserting commodity transactions: {e}\")\n",
    "        labvisualDB_conn.rollback()\n",
    "        sys.stdout.flush()\n",
    "        sys.exit(1)\n",
    "        \n",
    "extract_and_insert_commodity_transaction_data()\n",
    "time.sleep(params[\"sleep_time\"])"
   ]
  },
  {
   "cell_type": "markdown",
   "id": "d1e6fefb",
   "metadata": {},
   "source": [
    "## Read the stored procedures file"
   ]
  },
  {
   "cell_type": "code",
   "execution_count": 40,
   "id": "0ee989e8",
   "metadata": {},
   "outputs": [
    {
     "name": "stdout",
     "output_type": "stream",
     "text": [
      "[2025-04-30T12:15:43.777219] Tille Lab transformation - INFO: Running ETL\n",
      "Tille Lab transformation >>>: Running ETL\n",
      "[2025-04-30T12:15:45.289648] Tille Lab transformation - INFO: Add SP\n",
      "Tille Lab transformation >>>: Add SP\n"
     ]
    }
   ],
   "source": [
    "def extract_stored_procedures_from_file():\n",
    "    environment.log_message(\"Running ETL\")\n",
    "    time.sleep(params[\"sleep_time\"])\n",
    "\n",
    "    stored_procedures_file = \"./create-stored-procedures.sql\"\n",
    "    if os.path.exists(stored_procedures_file):\n",
    "        with open(stored_procedures_file, \"r\") as file:\n",
    "            sql_commands = file.read()\n",
    "\n",
    "        sql_batches = sql_commands.split(\"GO\")\n",
    "        environment.log_message(\"Add SP\")\n",
    "        \n",
    "        for batch in sql_batches:\n",
    "            batch = batch.strip()\n",
    "\n",
    "            if not batch or batch.startswith(\"--\") or batch.startswith(\"/*\"):\n",
    "                continue\n",
    "\n",
    "            if batch:\n",
    "                try:\n",
    "                    labvisualDB_cursor.execute(batch)\n",
    "                    labvisualDB_conn.commit()\n",
    "                except Exception as e:\n",
    "                    environment.log_error(f\"Error loading batch: {e}\")\n",
    "                    labvisualDB_conn.rollback()\n",
    "                    sys.stdout.flush()\n",
    "                    sys.exit(1)\n",
    "    else:\n",
    "        environment.log_error(f\"SQL file '{stored_procedures_file}' not found.\")\n",
    "        sys.stdout.flush()\n",
    "        sys.exit(1)\n",
    "\n",
    "extract_stored_procedures_from_file()"
   ]
  },
  {
   "cell_type": "markdown",
   "id": "9a4a460d",
   "metadata": {},
   "source": [
    "## Execute Data Transformation"
   ]
  },
  {
   "cell_type": "code",
   "execution_count": 41,
   "id": "0d304190-cc10-42ae-9386-1cfce4aa9874",
   "metadata": {},
   "outputs": [
    {
     "name": "stdout",
     "output_type": "stream",
     "text": [
      "[2025-04-30T12:19:48.866098] Tille Lab transformation - INFO: ETL complete\n",
      "Tille Lab transformation >>>: ETL complete\n"
     ]
    }
   ],
   "source": [
    "def execute_stored_procedures():\n",
    "    try:\n",
    "        sp = f\"EXEC dbo.sp_data_processing\"\n",
    "        labvisualDB_cursor.execute(sp)\n",
    "        \n",
    "        while labvisualDB_cursor.nextset():\n",
    "            pass\n",
    "        labvisualDB_conn.commit()\n",
    "\n",
    "    except Exception as e:\n",
    "        environment.log_error(f\"Error executing stored procedure: {e}\")\n",
    "        labvisualDB_conn.rollback()\n",
    "        sys.stdout.flush()\n",
    "        sys.exit(1)\n",
    "        \n",
    "    finally:\n",
    "        if 'mssql_conn' in locals():\n",
    "            labvisualDB_cursor.close()\n",
    "            labvisualDB_conn.close()\n",
    "            labdashdb_conn.dispose()\n",
    "\n",
    "execute_stored_procedures()\n",
    "environment.log_message(\"ETL complete\")\n"
   ]
  },
  {
   "cell_type": "code",
   "execution_count": 42,
   "id": "a0fa5b35",
   "metadata": {},
   "outputs": [
    {
     "name": "stdout",
     "output_type": "stream",
     "text": [
      "[2025-04-30T12:19:50.426371] Tille Lab transformation - INFO: Completed Tille Lab Transformation 30/04/2025 12:19:50\n",
      "Tille Lab transformation >>>: Completed Tille Lab Transformation 30/04/2025 12:19:50\n"
     ]
    }
   ],
   "source": [
    "time.sleep(params[\"sleep_time\"])\n",
    "environment.log_message(f\"Completed Tille Lab Transformation {datetime.now().strftime('%d/%m/%Y %H:%M:%S')}\")"
   ]
  }
 ],
 "metadata": {
  "kernelspec": {
   "display_name": "Python 3",
   "language": "python",
   "name": "python3"
  },
  "language_info": {
   "codemirror_mode": {
    "name": "ipython",
    "version": 3
   },
   "file_extension": ".py",
   "mimetype": "text/x-python",
   "name": "python",
   "nbconvert_exporter": "python",
   "pygments_lexer": "ipython3",
   "version": "3.12.7"
  }
 },
 "nbformat": 4,
 "nbformat_minor": 5
}
