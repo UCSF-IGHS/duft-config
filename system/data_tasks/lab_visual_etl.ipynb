{
 "cells": [
  {
   "cell_type": "markdown",
   "id": "d8030239",
   "metadata": {},
   "source": [
    "# LAB VISUAL ETL TRANSFORMATION SCRIPT"
   ]
  },
  {
   "cell_type": "markdown",
   "id": "2495c953",
   "metadata": {},
   "source": [
    "## Import Required Libraries"
   ]
  },
  {
   "cell_type": "code",
   "execution_count": 1,
   "id": "04aa1b74-2de0-427b-9961-1363d510d22e",
   "metadata": {},
   "outputs": [],
   "source": [
    "import os\n",
    "import pyodbc\n",
    "import pandas as pd\n",
    "from sqlalchemy import create_engine\n",
    "import time"
   ]
  },
  {
   "cell_type": "markdown",
   "id": "1c9288ad",
   "metadata": {},
   "source": [
    "## Mysql Server Configuration"
   ]
  },
  {
   "cell_type": "code",
   "execution_count": null,
   "id": "00887142-fa91-4dd7-8e88-dc57ee552654",
   "metadata": {},
   "outputs": [
    {
     "name": "stdout",
     "output_type": "stream",
     "text": [
      "Connected to MySQL database: labdashdb\n"
     ]
    }
   ],
   "source": [
    "default_mysql_config = {\n",
    "    \"MYSQL_USER\": \"{mysql_user}\",\n",
    "    \"MYSQL_PASSWORD\": \"{mysql_pasword}\",\n",
    "    \"MYSQL_HOST\": \"localhost\",\n",
    "    \"MYSQL_DATABASE_NAME\": \"labdashdb\",\n",
    "    \"MYSQL_PORT\": \"3306\",\n",
    "}\n",
    "\n",
    "mysql_config = {}\n",
    "for key, default_value in default_mysql_config.items():\n",
    "    user_input = input(f\"Enter {key} (default is {default_value}): \").strip()\n",
    "    mysql_config[key] = user_input if user_input else default_value\n",
    "\n",
    "mysql_url = f\"mysql+pymysql://{mysql_config['MYSQL_USER']}:{mysql_config['MYSQL_PASSWORD']}@{mysql_config['MYSQL_HOST']}:{mysql_config['MYSQL_PORT']}/{mysql_config['MYSQL_DATABASE_NAME']}\"\n",
    "\n",
    "try:\n",
    "    mysql_conn = create_engine(mysql_url)\n",
    "    print(f\"Connected to MySQL database: {mysql_config['MYSQL_DATABASE_NAME']}\")\n",
    "except Exception as e:\n",
    "    print(f\"Error connecting to MySQL: {e}\")\n",
    "    exit(1)"
   ]
  },
  {
   "cell_type": "markdown",
   "id": "367f3ad2",
   "metadata": {},
   "source": [
    "## Mssql Server Configuration"
   ]
  },
  {
   "cell_type": "code",
   "execution_count": null,
   "id": "64b559d7-be23-4355-995f-e97ef289b741",
   "metadata": {},
   "outputs": [],
   "source": [
    "mssql_config = {\n",
    "    \"server\": \"localhost\",\n",
    "    \"database\": \"master\",\n",
    "    \"username\": \"{mssql_user}\",\n",
    "    \"password\": \"{mssql_pasword}\",\n",
    "}\n",
    "\n",
    "mssql_conn = pyodbc.connect(\n",
    "        f\"DRIVER={{ODBC Driver 17 for SQL Server}};\"\n",
    "        f\"SERVER={mssql_config['server']};\"\n",
    "        f\"DATABASE={mssql_config['database']};\"\n",
    "        f\"UID={mssql_config['username']};\"\n",
    "        f\"PWD={mssql_config['password']};\"\n",
    "        f\"Trusted_Connection=yes;\",\n",
    "        autocommit=True\n",
    "    )\n",
    "\n",
    "mssql_cursor = mssql_conn.cursor()"
   ]
  },
  {
   "cell_type": "markdown",
   "id": "d4be9a5e",
   "metadata": {},
   "source": [
    "## Create lab_visual_analysis database and its schemas"
   ]
  },
  {
   "cell_type": "code",
   "execution_count": 4,
   "id": "afc10249",
   "metadata": {},
   "outputs": [
    {
     "name": "stdout",
     "output_type": "stream",
     "text": [
      "MSSQL database lab_visual_analysis dropped and recreated successfully.\n",
      "Schemas created successfully.\n"
     ]
    }
   ],
   "source": [
    "mssql_cursor.execute(\n",
    "    f\"\"\"\n",
    "        IF EXISTS (SELECT * FROM sys.databases WHERE name = 'lab_visual_analysis') \n",
    "        BEGIN\n",
    "            DROP DATABASE lab_visual_analysis;\n",
    "        END\n",
    "        CREATE DATABASE lab_visual_analysis;\n",
    "    \"\"\"\n",
    ")\n",
    "mssql_conn.commit()\n",
    "print(\"MSSQL database lab_visual_analysis dropped and recreated successfully.\")\n",
    "\n",
    "mssql_cursor.execute(\"USE lab_visual_analysis;\")\n",
    "\n",
    "schemas = ['source', 'derived', 'final', 'z', 'dbo']\n",
    "for schema in schemas:\n",
    "    mssql_cursor.execute(\n",
    "        f\"\"\"\n",
    "            IF NOT EXISTS (SELECT * FROM sys.schemas WHERE name = '{schema}')\n",
    "            BEGIN\n",
    "                EXEC('CREATE SCHEMA {schema}');\n",
    "            END\n",
    "        \"\"\"\n",
    "    )\n",
    "mssql_conn.commit()\n",
    "print(\"Schemas created successfully.\")"
   ]
  },
  {
   "cell_type": "markdown",
   "id": "cefde184",
   "metadata": {},
   "source": [
    "## Create Tables in the lab_visual_analysis database"
   ]
  },
  {
   "cell_type": "code",
   "execution_count": 5,
   "id": "ef4cee3d",
   "metadata": {},
   "outputs": [],
   "source": [
    "def create_tables():\n",
    "    table_creation_queries = [\n",
    "        \"\"\"\n",
    "        IF NOT EXISTS (SELECT * FROM sys.tables WHERE name = 'tbl_Facilities' AND schema_id = SCHEMA_ID('source'))\n",
    "        CREATE TABLE source.tbl_Facilities (\n",
    "            Id INT IDENTITY(1,1),\n",
    "            HfrCode NVARCHAR(50) PRIMARY KEY,\n",
    "            Name NVARCHAR(255),\n",
    "            Region NVARCHAR(255),\n",
    "            District NVARCHAR(255),\n",
    "            Council NVARCHAR(255)\n",
    "        );\n",
    "        \"\"\",\n",
    "        \"\"\"\n",
    "        IF NOT EXISTS (SELECT * FROM sys.tables WHERE name = 'tbl_Device_Logs' AND schema_id = SCHEMA_ID('source'))\n",
    "        CREATE TABLE source.tbl_Device_Logs (\n",
    "            Id INT IDENTITY(1,1) PRIMARY KEY,\n",
    "            DeviceName NVARCHAR(255),\n",
    "            DeviceCode NVARCHAR(50),\n",
    "            DateBrokenDown DATETIME2,\n",
    "            DateReported DATETIME2,\n",
    "            DateFixed DATETIME2,\n",
    "            BreakDownReason NVARCHAR(255)\n",
    "        );\n",
    "        \"\"\",\n",
    "        \"\"\"\n",
    "        IF NOT EXISTS (SELECT * FROM sys.tables WHERE name = 'tbl_Commodity_Transactions' AND schema_id = SCHEMA_ID('source'))\n",
    "        CREATE TABLE source.tbl_Commodity_Transactions (\n",
    "            Id INT IDENTITY(1,1) PRIMARY KEY,\n",
    "            CommodityName NVARCHAR(255),\n",
    "            CommodityCode NVARCHAR(50),\n",
    "            BatchNumber NVARCHAR(50),\n",
    "            TransactionDate DATETIME2,\n",
    "            ExpireDate DATETIME2,\n",
    "            TransactionType NVARCHAR(50),\n",
    "            TransactionQuantity INT\n",
    "        );\n",
    "        \"\"\",\n",
    "        \"\"\"\n",
    "        IF NOT EXISTS (SELECT * FROM sys.tables WHERE name = 'tbl_Sample' AND schema_id = SCHEMA_ID('source'))\n",
    "        CREATE TABLE source.tbl_Sample (\n",
    "            Id INT IDENTITY(1,1) PRIMARY KEY,\n",
    "            sampletrackingid NVARCHAR(50),\n",
    "            LabHfrCode NVARCHAR(50),\n",
    "            HubHfrCode NVARCHAR(50),\n",
    "            EntryModality NVARCHAR(50),\n",
    "            SampleType NVARCHAR(255),\n",
    "            TestName NVARCHAR(255),   \n",
    "            SampleQualityStatus NVARCHAR(50),\n",
    "            Results NVARCHAR(255),\n",
    "            SampleRejectionReason NVARCHAR(255),\n",
    "            DeviceName NVARCHAR(255),\n",
    "            DeviceCode NVARCHAR(50),\n",
    "            CollectionDate DATETIME2,\n",
    "            ReceivedDate DATETIME2,\n",
    "            TestDate DATETIME2,\n",
    "            AuthorisedDate DATETIME2,\n",
    "            DispatchDate DATETIME2\n",
    "        );\n",
    "        \"\"\"\n",
    "    ]\n",
    "\n",
    "    for query in table_creation_queries:\n",
    "        try:\n",
    "            mssql_cursor.execute(query)\n",
    "        except Exception as e:\n",
    "            print(f\"Error creating table: {e}\")\n",
    "\n",
    "    mssql_conn.commit()\n",
    "    print(\"Tables created successfully.\")"
   ]
  },
  {
   "cell_type": "markdown",
   "id": "ae8476c2",
   "metadata": {},
   "source": [
    "## Load Facility Data"
   ]
  },
  {
   "cell_type": "code",
   "execution_count": 6,
   "id": "8f733713",
   "metadata": {},
   "outputs": [],
   "source": [
    "def load_facility_data():\n",
    "    excel_file = \"./All_Operating_Health_Facilities_in_Tanzania-Lab-Visual-2021oct22.xlsx\"\n",
    "    \n",
    "    if not os.path.exists(excel_file):\n",
    "        print(f\"Excel file '{excel_file}' not found.\")\n",
    "        return\n",
    "    \n",
    "    df = pd.read_excel(excel_file)\n",
    "\n",
    "    df.rename(columns={\"Facility Number\": \"HfrCode\", \"Facility Name\": \"Name\"}, inplace=True)\n",
    "    \n",
    "    df = df[['HfrCode', 'Name', 'Region', 'District', 'Council']]\n",
    "    df['Region'] = df['Region'].str.replace(\"Region\", \"\", regex=True).str.strip()\n",
    "    \n",
    "    df.drop_duplicates(subset=['HfrCode'], keep='first', inplace=True)\n",
    "    \n",
    "    insert_query = \"\"\"\n",
    "    INSERT INTO source.tbl_Facilities (HfrCode, Name, Region, District, Council)\n",
    "    VALUES (?, ?, ?, ?, ?)\n",
    "    \"\"\"\n",
    "    \n",
    "    inserted_rows = 0\n",
    "    try:\n",
    "        for _, row in df.iterrows():\n",
    "            mssql_cursor.execute(insert_query, row['HfrCode'], row['Name'], row['Region'], row['District'], row['Council'])\n",
    "        mssql_conn.commit()\n",
    "        inserted_rows = len(df)\n",
    "        print(f\"{inserted_rows} rows inserted into tbl_Facilities.\")\n",
    "    except Exception as e:\n",
    "        print(f\"Error inserting data: {e}\")\n",
    "        mssql_conn.rollback()"
   ]
  },
  {
   "cell_type": "markdown",
   "id": "a9c0f41e",
   "metadata": {},
   "source": [
    "## Load Device Logs Data"
   ]
  },
  {
   "cell_type": "code",
   "execution_count": 7,
   "id": "7467a6c8",
   "metadata": {},
   "outputs": [],
   "source": [
    "def load_device_log_data():\n",
    "    query = \"\"\"\n",
    "        select\n",
    "            deviceName as DeviceName,\n",
    "            deviceCode as DeviceCode,\n",
    "            dateBreakDown as DateBrokenDown,\n",
    "            dateReported as DateReported,\n",
    "            dateFixed as DateFixed,\n",
    "            breakDownReason as BreakDownReason\n",
    "        from\n",
    "            instrumentlogs2\n",
    "    \"\"\"\n",
    "    \n",
    "    try:\n",
    "        device_logs = pd.read_sql(query, mysql_conn)\n",
    "        \n",
    "        insert_query = \"\"\"\n",
    "        INSERT INTO source.tbl_Device_Logs (DeviceName, DeviceCode, DateBrokenDown, DateReported, DateFixed, BreakDownReason)\n",
    "        VALUES (?, ?, ?, ?, ?, ?)\n",
    "        \"\"\"\n",
    "        \n",
    "        for _, row in device_logs.iterrows():\n",
    "            mssql_cursor.execute(insert_query, row['DeviceName'], row['DeviceCode'], row['DateBrokenDown'], row['DateReported'], row['DateFixed'], row['BreakDownReason'])\n",
    "        \n",
    "        mssql_conn.commit()\n",
    "        print(f\"{len(device_logs)} rows inserted into tbl_Device_Logs.\")\n",
    "    except Exception as e:\n",
    "        print(f\"Error fetching or inserting device logs: {e}\")\n",
    "        mssql_conn.rollback()"
   ]
  },
  {
   "cell_type": "markdown",
   "id": "48e47f16",
   "metadata": {},
   "source": [
    "## Load Commodity Transaction Data"
   ]
  },
  {
   "cell_type": "code",
   "execution_count": 8,
   "id": "b7e4cdad",
   "metadata": {},
   "outputs": [],
   "source": [
    "def load_commodity_transaction_data():\n",
    "    query = \"\"\"SELECT commodityName AS CommodityName, commodityCode AS CommodityCode, batchNo AS BatchNumber, transactionDate AS TransactionDate, \n",
    "                    expireDate AS ExpireDate, transactionType AS TransactionType, quantity AS TransactionQuantity FROM commoditytransactions\"\"\"\n",
    "    \n",
    "    try:\n",
    "        commodity_transactions = pd.read_sql(query, mysql_conn)\n",
    "        \n",
    "        insert_query = \"\"\"\n",
    "        INSERT INTO source.tbl_Commodity_Transactions (CommodityName, CommodityCode, BatchNumber, TransactionDate, ExpireDate, TransactionType, TransactionQuantity)\n",
    "        VALUES (?, ?, ?, ?, ?, ?, ?)\n",
    "        \"\"\"\n",
    "        \n",
    "        for _, row in commodity_transactions.iterrows():\n",
    "            mssql_cursor.execute(insert_query, row['CommodityName'], row['CommodityCode'], row['BatchNumber'], row['TransactionDate'],\n",
    "                                row['ExpireDate'], row['TransactionType'], row['TransactionQuantity'])\n",
    "        \n",
    "        mssql_conn.commit()\n",
    "        print(f\"{len(commodity_transactions)} rows inserted into tbl_Commodity_Transactions.\")\n",
    "    \n",
    "    except Exception as e:\n",
    "        print(f\"Error fetching or inserting commodity transactions: {e}\")\n",
    "        mssql_conn.rollback()"
   ]
  },
  {
   "cell_type": "markdown",
   "id": "c485759a",
   "metadata": {},
   "source": [
    "## Load Sample Data"
   ]
  },
  {
   "cell_type": "code",
   "execution_count": 9,
   "id": "13fdf122",
   "metadata": {},
   "outputs": [],
   "source": [
    "def load_sample_data():\n",
    "    query = \"\"\"\n",
    "    SELECT DISTINCT trackingID as sampletrackingid, \n",
    "                    facilityHfrID, \n",
    "                    sampleType as SampleType, \n",
    "                    testName as TestName, \n",
    "                    sampleQuality as SampleQualityStatus, \n",
    "                    rejectionReason as SampleRejectionReason, \n",
    "                    sampleCollectionDate as CollectionDate, \n",
    "                    dateReceivedLab as ReceivedDate, \n",
    "                    results as Results, \n",
    "                    testedDate as TestDate, \n",
    "                    resultAuthorisedDate as AuthorisedDate, \n",
    "                    resultAuthorisedDate as DispatchDate,\n",
    "                    testInstrument as DeviceName,\n",
    "                    NULL as DeviceCode,\n",
    "                    IF(SUBSTR(trackingID, 1, 4) = 'BC03', 'lab', 'hub') as EntryModality\n",
    "    FROM tbl_labtests\n",
    "    WHERE sampleCollectionDate >= DATE_SUB(CURDATE(), INTERVAL 2 MONTH)\n",
    "    OR dateSentLab >= DATE_SUB(CURDATE(), INTERVAL 2 MONTH)\n",
    "    OR dateReceivedLab >= DATE_SUB(CURDATE(), INTERVAL 2 MONTH)\n",
    "    OR registeredDate >= DATE_SUB(CURDATE(), INTERVAL 2 MONTH)\n",
    "    OR testedDate >= DATE_SUB(CURDATE(), INTERVAL 2 MONTH)\n",
    "    OR resultAuthorisedDate >= DATE_SUB(CURDATE(), INTERVAL 2 MONTH)\n",
    "    OR dateResultSentHub >= DATE_SUB(CURDATE(), INTERVAL 2 MONTH)\n",
    "    \"\"\"\n",
    "    \n",
    "    try:\n",
    "        sample_data = pd.read_sql(query, mysql_conn)\n",
    "        if sample_data.empty:\n",
    "            print(\"No sample data found.\")\n",
    "            return\n",
    "\n",
    "        def extract_hfr_code(row):\n",
    "            # base_code = row['SampleTrackingId'][:6] \n",
    "            # formatted_code = f\"{base_code}-{row['SampleTrackingId'][6]}\"\n",
    "            \n",
    "            if row['EntryModality'] == 'lab':\n",
    "                return row['facilityHfrID'], None\n",
    "            else:\n",
    "                return None, row['facilityHfrID']\n",
    "\n",
    "        sample_data[['LabHfrCode', 'HubHfrCode']] = sample_data.apply(extract_hfr_code, axis=1, result_type='expand')\n",
    "\n",
    "        for _, row in sample_data.iterrows():\n",
    "            insert_query = \"\"\"\n",
    "            INSERT INTO source.tbl_Sample (sampletrackingid, LabHfrCode, HubHfrCode, EntryModality, SampleType, \n",
    "                                        TestName, SampleQualityStatus, Results, SampleRejectionReason, DeviceName, \n",
    "                                        DeviceCode, CollectionDate, ReceivedDate, TestDate, AuthorisedDate, DispatchDate)\n",
    "            VALUES (?, ?, ?, ?, ?, ?, ?, ?, ?, ?, ?, ?, ?, ?, ?, ?)\n",
    "            \"\"\"\n",
    "            mssql_cursor.execute(insert_query, row['sampletrackingid'], row['LabHfrCode'], row['HubHfrCode'], \n",
    "                                row['EntryModality'], row['SampleType'], row['TestName'], row['SampleQualityStatus'], \n",
    "                                row['Results'], row['SampleRejectionReason'], row['DeviceName'], row['DeviceCode'], row['CollectionDate'], \n",
    "                                row['ReceivedDate'], row['TestDate'], row['AuthorisedDate'], row['DispatchDate'])\n",
    "        \n",
    "        mssql_conn.commit()\n",
    "        print(f\"{len(sample_data)} rows processed for tbl_Sample.\")\n",
    "\n",
    "    except Exception as e:\n",
    "        mssql_conn.rollback()\n",
    "        print(f\"Error inserting data: {e}\")"
   ]
  },
  {
   "cell_type": "markdown",
   "id": "d1e6fefb",
   "metadata": {},
   "source": [
    "## Read the stored procedures file"
   ]
  },
  {
   "cell_type": "code",
   "execution_count": 10,
   "id": "0ee989e8",
   "metadata": {},
   "outputs": [],
   "source": [
    "def read_stored_procedures_file():\n",
    "    sql_file = \"./create-stored-procedures.sql\"\n",
    "    if os.path.exists(sql_file):\n",
    "        with open(sql_file, \"r\") as file:\n",
    "            sql_commands = file.read()\n",
    "\n",
    "        sql_batches = sql_commands.split(\"GO\")\n",
    "\n",
    "        for batch in sql_batches:\n",
    "            batch = batch.strip()\n",
    "\n",
    "            if not batch or batch.startswith(\"--\") or batch.startswith(\"/*\"):\n",
    "                continue\n",
    "\n",
    "            if batch:\n",
    "                try:\n",
    "                    mssql_cursor.execute(batch)\n",
    "                    mssql_conn.commit()\n",
    "                except Exception as e:\n",
    "                    print(f\"Error loading batch: {e}\")\n",
    "                    mssql_conn.rollback()\n",
    "            \n",
    "        print(\"Stored procedures loaded successfully.\")\n",
    "    else:\n",
    "        print(f\"SQL file '{sql_file}' not found.\")"
   ]
  },
  {
   "cell_type": "markdown",
   "id": "9a4a460d",
   "metadata": {},
   "source": [
    "## Execute Data Transformation"
   ]
  },
  {
   "cell_type": "code",
   "execution_count": 11,
   "id": "0d304190-cc10-42ae-9386-1cfce4aa9874",
   "metadata": {},
   "outputs": [],
   "source": [
    "def execute_stored_procedures():\n",
    "    try:\n",
    "        sp_main = [\"dbo.sp_data_processing\", \"z.sp_data_processing\", \"derived.sp_data_processing\", \"final.sp_data_processing\"]\n",
    "        for sp in sp_main:\n",
    "            sp = f\"EXEC {sp}\"\n",
    "            print(f\"Executing: {sp}\")\n",
    "            mssql_cursor.execute(sp)\n",
    "            \n",
    "            while mssql_cursor.nextset():\n",
    "                pass\n",
    "\n",
    "            print(f\"Stored procedure {sp} executed successfully.\")\n",
    "        mssql_conn.commit()\n",
    "\n",
    "    except Exception as e:\n",
    "        print(f\"Error executing stored procedure: {e}\")\n",
    "        mssql_conn.rollback()\n",
    "    finally:\n",
    "        if 'mssql_conn' in locals():\n",
    "            mssql_conn.close()\n",
    "            print(\"Database connection closed.\")\n"
   ]
  },
  {
   "cell_type": "code",
   "execution_count": null,
   "id": "a0fa5b35",
   "metadata": {},
   "outputs": [
    {
     "name": "stdout",
     "output_type": "stream",
     "text": [
      "Tables created successfully.\n",
      "9884 rows inserted into tbl_Facilities.\n",
      "8981 rows processed for tbl_Sample.\n",
      "0 rows inserted into tbl_Device_Logs.\n",
      "0 rows inserted into tbl_Commodity_Transactions.\n",
      "Stored procedures loaded successfully.\n",
      "Executing: EXEC dbo.sp_data_processing\n",
      "Stored procedure EXEC dbo.sp_data_processing executed successfully.\n",
      "Executing: EXEC z.sp_data_processing\n",
      "Stored procedure EXEC z.sp_data_processing executed successfully.\n",
      "Executing: EXEC derived.sp_data_processing\n",
      "Stored procedure EXEC derived.sp_data_processing executed successfully.\n",
      "Executing: EXEC final.sp_data_processing\n",
      "Stored procedure EXEC final.sp_data_processing executed successfully.\n"
     ]
    }
   ],
   "source": [
    "create_tables()\n",
    "load_facility_data()\n",
    "load_sample_data()\n",
    "load_device_log_data()\n",
    "load_commodity_transaction_data()\n",
    "read_stored_procedures_file()\n",
    "execute_stored_procedures()"
   ]
  }
 ],
 "metadata": {
  "kernelspec": {
   "display_name": "base",
   "language": "python",
   "name": "python3"
  },
  "language_info": {
   "codemirror_mode": {
    "name": "ipython",
    "version": 3
   },
   "file_extension": ".py",
   "mimetype": "text/x-python",
   "name": "python",
   "nbconvert_exporter": "python",
   "pygments_lexer": "ipython3",
   "version": "3.12.3"
  }
 },
 "nbformat": 4,
 "nbformat_minor": 5
}
