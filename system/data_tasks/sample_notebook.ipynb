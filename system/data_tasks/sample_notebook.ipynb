{
 "cells": [
  {
   "cell_type": "code",
   "execution_count": 1,
   "metadata": {},
   "outputs": [],
   "source": [
    "params = {}"
   ]
  },
  {
   "cell_type": "code",
   "execution_count": 2,
   "metadata": {},
   "outputs": [
    {
     "name": "stdout",
     "output_type": "stream",
     "text": [
      "DUFT Config: duft-config\n",
      "Init environment\n"
     ]
    }
   ],
   "source": [
    "import time\n",
    "from services.dte_tools.data_task_tools import assert_dte_tools_available, get_resolved_parameters_for_connection, initialise_data_task  # noqa: E402\n",
    "\n"
   ]
  },
  {
   "cell_type": "code",
   "execution_count": 3,
   "metadata": {},
   "outputs": [
    {
     "name": "stdout",
     "output_type": "stream",
     "text": [
      "[2025-02-23T10:48:30.941677] Jupyter Sample Data Task - INFO: Jupyter Sample Data Task initialised running in active mode\n",
      "Jupyter Sample Data Task >>>: Jupyter Sample Data Task initialised running in active mode\n"
     ]
    }
   ],
   "source": [
    "environment = initialise_data_task(\"Jupyter Sample Data Task\", params=params)\n",
    "params[\"name\"] = params.get(\"name\", \"No name parameter given!\")\n",
    "params[\"sleep_time\"] = params.get(\"sleep_time\", 0.2)\n",
    "\n",
    "if not params:\n",
    "    environment.log_error(\"No parameters given!\")\n",
    "    "
   ]
  },
  {
   "cell_type": "code",
   "execution_count": null,
   "metadata": {},
   "outputs": [],
   "source": []
  },
  {
   "cell_type": "code",
   "execution_count": 4,
   "metadata": {},
   "outputs": [],
   "source": [
    "def sample_task():\n",
    "    resolved_data_connection_parameters = get_resolved_parameters_for_connection(\"ANA\")\n",
    "    environment.log_message('Script starting!')\n",
    "    environment.log_message(\"Using data connection: %s\" % resolved_data_connection_parameters)\n",
    "    environment.log_message(\"Using data parameters: %s\" % params)\n",
    "    \n"
   ]
  },
  {
   "cell_type": "code",
   "execution_count": null,
   "metadata": {},
   "outputs": [
    {
     "name": "stdout",
     "output_type": "stream",
     "text": [
      "DTE Tools available\n",
      "[2025-02-23T10:48:30.977581] Jupyter Sample Data Task - INFO: Script starting!\n",
      "Jupyter Sample Data Task >>>: Script starting!\n",
      "[2025-02-23T10:48:30.981738] Jupyter Sample Data Task - INFO: Using data connection: {'server': '127.0.0.1', 'username': 'user', 'password': 'mysecretword', 'port': '5432', 'database': 'analysis', 'sqlite3file': 'wakanda.sqlite', 'type': 'sqlite3'}\n",
      "Jupyter Sample Data Task >>>: Using data connection: {'server': '127.0.0.1', 'username': 'user', 'password': 'mysecretword', 'port': '5432', 'database': 'analysis', 'sqlite3file': 'wakanda.sqlite', 'type': 'sqlite3'}\n",
      "[2025-02-23T10:48:30.983347] Jupyter Sample Data Task - INFO: Using data parameters: {'name': 'No name parameter given!', 'sleep_time': 0.2}\n",
      "Jupyter Sample Data Task >>>: Using data parameters: {'name': 'No name parameter given!', 'sleep_time': 0.2}\n"
     ]
    }
   ],
   "source": [
    "assert_dte_tools_available()\n",
    "sample_task()"
   ]
  },
  {
   "cell_type": "code",
   "execution_count": null,
   "metadata": {},
   "outputs": [],
   "source": [
    "sample_task()"
   ]
  },
  {
   "cell_type": "code",
   "execution_count": 6,
   "metadata": {},
   "outputs": [
    {
     "name": "stdout",
     "output_type": "stream",
     "text": [
      "[2025-02-23T10:48:31.205061] Jupyter Sample Data Task - INFO: Progress for No name parameter given!: 1/10\n",
      "Jupyter Sample Data Task >>>: Progress for No name parameter given!: 1/10\n"
     ]
    }
   ],
   "source": [
    "time.sleep(params[\"sleep_time\"])\n",
    "environment.log_message(f'Progress for {params[\"name\"]}: 1/10')"
   ]
  },
  {
   "cell_type": "code",
   "execution_count": 7,
   "metadata": {},
   "outputs": [
    {
     "name": "stdout",
     "output_type": "stream",
     "text": [
      "[2025-02-23T10:48:31.415493] Jupyter Sample Data Task - INFO: Progress for No name parameter given!: 2/10\n",
      "Jupyter Sample Data Task >>>: Progress for No name parameter given!: 2/10\n"
     ]
    }
   ],
   "source": [
    "time.sleep(params[\"sleep_time\"])\n",
    "environment.log_message(f'Progress for {params[\"name\"]}: 2/10')"
   ]
  },
  {
   "cell_type": "code",
   "execution_count": 8,
   "metadata": {},
   "outputs": [
    {
     "name": "stdout",
     "output_type": "stream",
     "text": [
      "[2025-02-23T10:48:31.626195] Jupyter Sample Data Task - INFO: Progress for No name parameter given!: 3/10\n",
      "Jupyter Sample Data Task >>>: Progress for No name parameter given!: 3/10\n"
     ]
    }
   ],
   "source": [
    "time.sleep(params[\"sleep_time\"])\n",
    "environment.log_message(f'Progress for {params[\"name\"]}: 3/10')"
   ]
  },
  {
   "cell_type": "code",
   "execution_count": 9,
   "metadata": {},
   "outputs": [
    {
     "name": "stdout",
     "output_type": "stream",
     "text": [
      "[2025-02-23T10:48:31.836523] Jupyter Sample Data Task - INFO: Progress for No name parameter given!: 4/10\n",
      "Jupyter Sample Data Task >>>: Progress for No name parameter given!: 4/10\n"
     ]
    }
   ],
   "source": [
    "time.sleep(params[\"sleep_time\"])\n",
    "environment.log_message(f'Progress for {params[\"name\"]}: 4/10')"
   ]
  },
  {
   "cell_type": "code",
   "execution_count": 10,
   "metadata": {},
   "outputs": [
    {
     "name": "stdout",
     "output_type": "stream",
     "text": [
      "[2025-02-23T10:48:32.048977] Jupyter Sample Data Task - INFO: Progress for No name parameter given!: 5/10\n",
      "Jupyter Sample Data Task >>>: Progress for No name parameter given!: 5/10\n"
     ]
    }
   ],
   "source": [
    "time.sleep(params[\"sleep_time\"])\n",
    "environment.log_message(f'Progress for {params[\"name\"]}: 5/10')"
   ]
  },
  {
   "cell_type": "code",
   "execution_count": 11,
   "metadata": {},
   "outputs": [
    {
     "name": "stdout",
     "output_type": "stream",
     "text": [
      "[2025-02-23T10:48:32.261045] Jupyter Sample Data Task - INFO: Progress for No name parameter given!: 6/10\n",
      "Jupyter Sample Data Task >>>: Progress for No name parameter given!: 6/10\n"
     ]
    }
   ],
   "source": [
    "time.sleep(params[\"sleep_time\"])\n",
    "environment.log_message(f'Progress for {params[\"name\"]}: 6/10')"
   ]
  },
  {
   "cell_type": "code",
   "execution_count": 12,
   "metadata": {},
   "outputs": [
    {
     "name": "stdout",
     "output_type": "stream",
     "text": [
      "[2025-02-23T10:48:32.471095] Jupyter Sample Data Task - INFO: Progress for No name parameter given!: 7/10\n",
      "Jupyter Sample Data Task >>>: Progress for No name parameter given!: 7/10\n"
     ]
    }
   ],
   "source": [
    "time.sleep(params[\"sleep_time\"])\n",
    "environment.log_message(f'Progress for {params[\"name\"]}: 7/10')"
   ]
  },
  {
   "cell_type": "code",
   "execution_count": 13,
   "metadata": {},
   "outputs": [
    {
     "name": "stdout",
     "output_type": "stream",
     "text": [
      "[2025-02-23T10:48:32.681514] Jupyter Sample Data Task - INFO: Progress for No name parameter given!: 8/10\n",
      "Jupyter Sample Data Task >>>: Progress for No name parameter given!: 8/10\n"
     ]
    }
   ],
   "source": [
    "time.sleep(params[\"sleep_time\"])\n",
    "environment.log_message(f'Progress for {params[\"name\"]}: 8/10')"
   ]
  },
  {
   "cell_type": "code",
   "execution_count": 14,
   "metadata": {},
   "outputs": [
    {
     "name": "stdout",
     "output_type": "stream",
     "text": [
      "[2025-02-23T10:48:32.893115] Jupyter Sample Data Task - INFO: Progress for No name parameter given!: 9/10\n",
      "Jupyter Sample Data Task >>>: Progress for No name parameter given!: 9/10\n"
     ]
    }
   ],
   "source": [
    "time.sleep(params[\"sleep_time\"])\n",
    "environment.log_message(f'Progress for {params[\"name\"]}: 9/10')"
   ]
  },
  {
   "cell_type": "code",
   "execution_count": 15,
   "metadata": {},
   "outputs": [
    {
     "name": "stdout",
     "output_type": "stream",
     "text": [
      "[2025-02-23T10:48:33.103200] Jupyter Sample Data Task - INFO: Progress for No name parameter given!: 10/10\n",
      "Jupyter Sample Data Task >>>: Progress for No name parameter given!: 10/10\n"
     ]
    }
   ],
   "source": [
    "time.sleep(params[\"sleep_time\"])\n",
    "environment.log_message(f'Progress for {params[\"name\"]}: 10/10')"
   ]
  },
  {
   "cell_type": "code",
   "execution_count": 16,
   "metadata": {},
   "outputs": [
    {
     "name": "stdout",
     "output_type": "stream",
     "text": [
      "[2025-02-23T10:48:33.108280] Jupyter Sample Data Task - INFO: Script completed!\n",
      "Jupyter Sample Data Task >>>: Script completed!\n"
     ]
    }
   ],
   "source": [
    "\n",
    "environment.log_message('Script completed!')"
   ]
  }
 ],
 "metadata": {
  "kernelspec": {
   "display_name": ".venv",
   "language": "python",
   "name": "python3"
  },
  "language_info": {
   "codemirror_mode": {
    "name": "ipython",
    "version": 3
   },
   "file_extension": ".py",
   "mimetype": "text/x-python",
   "name": "python",
   "nbconvert_exporter": "python",
   "pygments_lexer": "ipython3",
   "version": "3.12.3"
  }
 },
 "nbformat": 4,
 "nbformat_minor": 2
}
