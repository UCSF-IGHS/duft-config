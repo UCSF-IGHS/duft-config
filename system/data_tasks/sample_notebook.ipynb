{
 "cells": [
  {
   "cell_type": "code",
   "execution_count": 1,
   "metadata": {},
   "outputs": [],
   "source": [
    "params = {}"
   ]
  },
  {
   "cell_type": "code",
   "execution_count": 2,
   "metadata": {},
   "outputs": [
    {
     "name": "stdout",
     "output_type": "stream",
     "text": [
      "DUFT Config: duft-config\n",
      "Init environment\n"
     ]
    }
   ],
   "source": [
    "import time\n",
    "from services.dte_tools.data_task_tools import assert_dte_tools_available, get_resolved_parameters_for_connection, initialise_data_task  # noqa: E402\n",
    "\n"
   ]
  },
  {
   "cell_type": "code",
   "execution_count": 3,
   "metadata": {},
   "outputs": [
    {
     "name": "stdout",
     "output_type": "stream",
     "text": [
      "[2025-02-22T09:45:17.201035] Jupyter Sample Data Task - INFO: Jupyter Sample Data Task initialised running in active mode\n",
      "Jupyter Sample Data Task >>>: Jupyter Sample Data Task initialised running in active mode\n"
     ]
    }
   ],
   "source": [
    "   \n",
    "environment = initialise_data_task(\"Jupyter Sample Data Task\", params=params)\n",
    "params[\"name\"] = params.get(\"customname\", params.get(\"name\", \"No parameters given!\"))\n",
    "params[\"sleep_time\"] = params.get(\"sleep_time\", 0.2)\n",
    "\n",
    "if not params:\n",
    "    environment.log_error(\"No parameters given!\")\n",
    "    "
   ]
  },
  {
   "cell_type": "code",
   "execution_count": 4,
   "metadata": {},
   "outputs": [],
   "source": [
    "def sample_task():\n",
    "    resolved_parameters = get_resolved_parameters_for_connection(\"ANA\")\n",
    "    environment.log_message('Script starting!')\n",
    "    environment.log_message(\"Using parameters: %s\" % resolved_parameters)\n",
    "    \n"
   ]
  },
  {
   "cell_type": "code",
   "execution_count": 5,
   "metadata": {},
   "outputs": [
    {
     "name": "stdout",
     "output_type": "stream",
     "text": [
      "DTE Tools available\n",
      "[2025-02-22T09:45:17.209189] Jupyter Sample Data Task - INFO: Script starting!\n",
      "Jupyter Sample Data Task >>>: Script starting!\n",
      "[2025-02-22T09:45:17.209713] Jupyter Sample Data Task - INFO: Using parameters: {'server': '127.0.0.1', 'username': 'user', 'password': 'mysecretword', 'port': '5432', 'database': 'analysis', 'sqlite3file': 'wakanda.sqlite', 'type': 'sqlite3'}\n",
      "Jupyter Sample Data Task >>>: Using parameters: {'server': '127.0.0.1', 'username': 'user', 'password': 'mysecretword', 'port': '5432', 'database': 'analysis', 'sqlite3file': 'wakanda.sqlite', 'type': 'sqlite3'}\n"
     ]
    }
   ],
   "source": [
    "assert_dte_tools_available()\n",
    "sample_task()"
   ]
  },
  {
   "cell_type": "code",
   "execution_count": 6,
   "metadata": {},
   "outputs": [
    {
     "name": "stdout",
     "output_type": "stream",
     "text": [
      "[2025-02-22T09:45:17.418938] Jupyter Sample Data Task - INFO: Progress for No parameters given!: 1/10\n",
      "Jupyter Sample Data Task >>>: Progress for No parameters given!: 1/10\n"
     ]
    }
   ],
   "source": [
    "time.sleep(params[\"sleep_time\"])\n",
    "environment.log_message(f'Progress for {params[\"name\"]}: 1/10')"
   ]
  },
  {
   "cell_type": "code",
   "execution_count": 7,
   "metadata": {},
   "outputs": [
    {
     "name": "stdout",
     "output_type": "stream",
     "text": [
      "[2025-02-22T09:45:17.629445] Jupyter Sample Data Task - INFO: Progress for No parameters given!: 2/10\n",
      "Jupyter Sample Data Task >>>: Progress for No parameters given!: 2/10\n"
     ]
    }
   ],
   "source": [
    "time.sleep(params[\"sleep_time\"])\n",
    "environment.log_message(f'Progress for {params[\"name\"]}: 2/10')"
   ]
  },
  {
   "cell_type": "code",
   "execution_count": 8,
   "metadata": {},
   "outputs": [
    {
     "name": "stdout",
     "output_type": "stream",
     "text": [
      "[2025-02-22T09:45:17.844970] Jupyter Sample Data Task - INFO: Progress for No parameters given!: 3/10\n",
      "Jupyter Sample Data Task >>>: Progress for No parameters given!: 3/10\n"
     ]
    }
   ],
   "source": [
    "time.sleep(params[\"sleep_time\"])\n",
    "environment.log_message(f'Progress for {params[\"name\"]}: 3/10')"
   ]
  },
  {
   "cell_type": "code",
   "execution_count": 9,
   "metadata": {},
   "outputs": [
    {
     "name": "stdout",
     "output_type": "stream",
     "text": [
      "[2025-02-22T09:45:18.059707] Jupyter Sample Data Task - INFO: Progress for No parameters given!: 4/10\n",
      "Jupyter Sample Data Task >>>: Progress for No parameters given!: 4/10\n"
     ]
    }
   ],
   "source": [
    "time.sleep(params[\"sleep_time\"])\n",
    "environment.log_message(f'Progress for {params[\"name\"]}: 4/10')"
   ]
  },
  {
   "cell_type": "code",
   "execution_count": 10,
   "metadata": {},
   "outputs": [
    {
     "name": "stdout",
     "output_type": "stream",
     "text": [
      "[2025-02-22T09:45:18.276727] Jupyter Sample Data Task - INFO: Progress for No parameters given!: 5/10\n",
      "Jupyter Sample Data Task >>>: Progress for No parameters given!: 5/10\n"
     ]
    }
   ],
   "source": [
    "time.sleep(params[\"sleep_time\"])\n",
    "environment.log_message(f'Progress for {params[\"name\"]}: 5/10')"
   ]
  },
  {
   "cell_type": "code",
   "execution_count": 11,
   "metadata": {},
   "outputs": [
    {
     "name": "stdout",
     "output_type": "stream",
     "text": [
      "[2025-02-22T09:45:18.487931] Jupyter Sample Data Task - INFO: Progress for No parameters given!: 6/10\n",
      "Jupyter Sample Data Task >>>: Progress for No parameters given!: 6/10\n"
     ]
    }
   ],
   "source": [
    "time.sleep(params[\"sleep_time\"])\n",
    "environment.log_message(f'Progress for {params[\"name\"]}: 6/10')"
   ]
  },
  {
   "cell_type": "code",
   "execution_count": 12,
   "metadata": {},
   "outputs": [
    {
     "name": "stdout",
     "output_type": "stream",
     "text": [
      "[2025-02-22T09:45:18.699767] Jupyter Sample Data Task - INFO: Progress for No parameters given!: 7/10\n",
      "Jupyter Sample Data Task >>>: Progress for No parameters given!: 7/10\n"
     ]
    }
   ],
   "source": [
    "time.sleep(params[\"sleep_time\"])\n",
    "environment.log_message(f'Progress for {params[\"name\"]}: 7/10')"
   ]
  },
  {
   "cell_type": "code",
   "execution_count": 13,
   "metadata": {},
   "outputs": [
    {
     "name": "stdout",
     "output_type": "stream",
     "text": [
      "[2025-02-22T09:45:18.934935] Jupyter Sample Data Task - INFO: Progress for No parameters given!: 8/10\n",
      "Jupyter Sample Data Task >>>: Progress for No parameters given!: 8/10\n"
     ]
    }
   ],
   "source": [
    "time.sleep(params[\"sleep_time\"])\n",
    "environment.log_message(f'Progress for {params[\"name\"]}: 8/10')"
   ]
  },
  {
   "cell_type": "code",
   "execution_count": 14,
   "metadata": {},
   "outputs": [
    {
     "name": "stdout",
     "output_type": "stream",
     "text": [
      "[2025-02-22T09:45:19.147379] Jupyter Sample Data Task - INFO: Progress for No parameters given!: 9/10\n",
      "Jupyter Sample Data Task >>>: Progress for No parameters given!: 9/10\n"
     ]
    }
   ],
   "source": [
    "time.sleep(params[\"sleep_time\"])\n",
    "environment.log_message(f'Progress for {params[\"name\"]}: 9/10')"
   ]
  },
  {
   "cell_type": "code",
   "execution_count": 15,
   "metadata": {},
   "outputs": [
    {
     "name": "stdout",
     "output_type": "stream",
     "text": [
      "[2025-02-22T09:45:19.360183] Jupyter Sample Data Task - INFO: Progress for No parameters given!: 10/10\n",
      "Jupyter Sample Data Task >>>: Progress for No parameters given!: 10/10\n"
     ]
    }
   ],
   "source": [
    "time.sleep(params[\"sleep_time\"])\n",
    "environment.log_message(f'Progress for {params[\"name\"]}: 10/10')"
   ]
  },
  {
   "cell_type": "code",
   "execution_count": 16,
   "metadata": {},
   "outputs": [
    {
     "name": "stdout",
     "output_type": "stream",
     "text": [
      "[2025-02-22T09:45:19.365552] Jupyter Sample Data Task - INFO: Script completed!\n",
      "Jupyter Sample Data Task >>>: Script completed!\n"
     ]
    }
   ],
   "source": [
    "\n",
    "environment.log_message('Script completed!')"
   ]
  }
 ],
 "metadata": {
  "kernelspec": {
   "display_name": ".venv",
   "language": "python",
   "name": "python3"
  },
  "language_info": {
   "codemirror_mode": {
    "name": "ipython",
    "version": 3
   },
   "file_extension": ".py",
   "mimetype": "text/x-python",
   "name": "python",
   "nbconvert_exporter": "python",
   "pygments_lexer": "ipython3",
   "version": "3.12.3"
  }
 },
 "nbformat": 4,
 "nbformat_minor": 2
}
