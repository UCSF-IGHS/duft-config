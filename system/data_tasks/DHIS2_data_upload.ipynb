{
 "cells": [
  {
   "cell_type": "code",
   "execution_count": null,
   "metadata": {
    "vscode": {
     "languageId": "plaintext"
    }
   },
   "outputs": [],
   "source": [
    "import requests\n",
    "import json\n",
    "import time\n",
    "import sys\n",
    "\n",
    "from services.dte_tools.data_task_tools import (\n",
    "    assert_dte_tools_available,\n",
    "    get_resolved_parameters_for_connection,\n",
    "    initialise_data_task,\n",
    "    get_temp_dir,\n",
    "    get_data_dir\n",
    ")"
   ]
  },
  {
   "cell_type": "code",
   "execution_count": null,
   "metadata": {
    "vscode": {
     "languageId": "plaintext"
    }
   },
   "outputs": [],
   "source": [
    "# Initialize the environment\n",
    "params = {}\n",
    "environment = initialise_data_task(\"DHIS2 SQL View Creation Task\", params=params)\n",
    "params[\"name\"] = params.get(\"customname\", params.get(\"name\", \"No parameters given!\"))\n",
    "\n",
    "if not params:\n",
    "    environment.log_error(\"No parameters given!\")\n",
    "\n",
    "assert_dte_tools_available()"
   ]
  },
  {
   "cell_type": "code",
   "execution_count": null,
   "metadata": {
    "vscode": {
     "languageId": "plaintext"
    }
   },
   "outputs": [],
   "source": [
    "# Resolve connection parameters\n",
    "resolved_parameters = get_resolved_parameters_for_connection(\"DHIS2\")\n",
    "tmp_dir = get_temp_dir()\n",
    "\n",
    "environment.log_message('SQL View Creation Starting!')\n",
    "environment.log_message(\"Using parameters: %s\" % resolved_parameters)\n",
    "environment.log_message(\"Using temp directory: %s\" % tmp_dir)"
   ]
  },
  {
   "cell_type": "code",
   "execution_count": null,
   "metadata": {
    "vscode": {
     "languageId": "plaintext"
    }
   },
   "outputs": [],
   "source": [
    "# DHIS2 API credentials\n",
    "DHIS2_BASE_URL = resolved_parameters[\"server\"]\n",
    "USERNAME = resolved_parameters[\"username\"]\n",
    "PASSWORD = resolved_parameters[\"password\"]"
   ]
  },
  {
   "cell_type": "code",
   "execution_count": null,
   "metadata": {
    "vscode": {
     "languageId": "plaintext"
    }
   },
   "outputs": [],
   "source": [
    "# API endpoints\n",
    "DATASETS_ENDPOINT = f\"{DHIS2_BASE_URL}/dataSets.json?fields=id,name&paging=false\"\n",
    "SQLVIEWS_ENDPOINT = f\"{DHIS2_BASE_URL}/sqlViews.json\""
   ]
  },
  {
   "cell_type": "code",
   "execution_count": null,
   "metadata": {
    "vscode": {
     "languageId": "plaintext"
    }
   },
   "outputs": [],
   "source": [
    "# Headers\n",
    "HEADERS = {\n",
    "    \"Content-Type\": \"application/json\",\n",
    "    \"Accept\": \"application/json\"\n",
    "}"
   ]
  },
  {
   "cell_type": "code",
   "execution_count": null,
   "metadata": {
    "vscode": {
     "languageId": "plaintext"
    }
   },
   "outputs": [],
   "source": [
    "# Fetch all SQL views\n",
    "def get_existing_sql_views():\n",
    "    response = requests.get(SQLVIEWS_ENDPOINT, auth=(USERNAME, PASSWORD), headers=HEADERS)\n",
    "    if response.status_code == 200:\n",
    "        return {view[\"name\"]: view[\"id\"] for view in response.json().get(\"sqlViews\", [])}\n",
    "    elif response.status_code == 403:\n",
    "        environment.log_error(\"User does not have permission to access SQL Views.\")\n",
    "        return None\n",
    "    else:\n",
    "        environment.log_error(f\"Error fetching SQL views: {response.status_code}\")\n",
    "        environment.log_error(response.text)\n",
    "        return None"
   ]
  },
  {
   "cell_type": "code",
   "execution_count": null,
   "metadata": {
    "vscode": {
     "languageId": "plaintext"
    }
   },
   "outputs": [],
   "source": [
    "# Fetch all datasets\n",
    "def get_datasets():\n",
    "    response = requests.get(DATASETS_ENDPOINT, auth=(USERNAME, PASSWORD), headers=HEADERS)\n",
    "    if response.status_code == 200:\n",
    "        return response.json().get(\"dataSets\", [])\n",
    "    else:\n",
    "        environment.log_error(f\"Error fetching datasets: {response.status_code}\")\n",
    "        environment.log_error(response.text)\n",
    "        return []"
   ]
  },
  {
   "cell_type": "code",
   "execution_count": null,
   "metadata": {
    "vscode": {
     "languageId": "plaintext"
    }
   },
   "outputs": [],
   "source": [
    "# Construct and execute SQL query for each dataset\n",
    "def execute_queries():\n",
    "    existing_views = get_existing_sql_views()\n",
    "    if existing_views is None:\n",
    "        return\n",
    "    \n",
    "    datasets = get_datasets()\n",
    "    for dataset in datasets:\n",
    "        dataset_name = dataset[\"name\"]\n",
    "        view_name = f\"Query for {dataset_name}\"\n",
    "        \n",
    "        if view_name in existing_views:\n",
    "            environment.log_message(f\"Skipping {dataset_name}, SQL view '{view_name}' already exists.\")\n",
    "            continue\n",
    "        \n",
    "        environment.log_message(f\"Creating SQL view for dataset: {dataset_name}\")\n",
    "        \n",
    "        sql_query = f\"\"\"\n",
    "        SELECT \n",
    "            dv.sourceid AS organisation_unit_id,\n",
    "            ou.name AS organisation_unit_name,\n",
    "            dv.dataelementid,\n",
    "            de.name AS dataelement_name,\n",
    "            dv.periodid,\n",
    "            pe.startdate AS period_start,\n",
    "            pe.enddate AS period_end,\n",
    "            dv.value\n",
    "        FROM datavalue dv\n",
    "        JOIN datasetelement dse ON dv.dataelementid = dse.dataelementid\n",
    "        JOIN dataset ds ON dse.datasetid = ds.datasetid\n",
    "        JOIN dataelement de ON dv.dataelementid = de.dataelementid\n",
    "        JOIN organisationunit ou ON dv.sourceid = ou.organisationunitid\n",
    "        JOIN period pe ON dv.periodid = pe.periodid\n",
    "        WHERE ds.name = '{dataset_name}';\n",
    "        \"\"\"\n",
    "        \n",
    "        payload = {\n",
    "            \"name\": view_name,\n",
    "            \"description\": f\"Auto-generated SQL view for dataset: {dataset_name}\",\n",
    "            \"cacheStrategy\": \"NO_CACHE\",\n",
    "            \"type\": \"QUERY\",\n",
    "            \"sqlQuery\": sql_query\n",
    "        }\n",
    "        \n",
    "        response = requests.post(\n",
    "            SQLVIEWS_ENDPOINT,\n",
    "            auth=(USERNAME, PASSWORD),\n",
    "            headers=HEADERS,\n",
    "            data=json.dumps(payload)\n",
    "        )\n",
    "        \n",
    "        if response.status_code == 201:\n",
    "            environment.log_message(f\"SQL view '{view_name}' created successfully for dataset: {dataset_name}\")\n",
    "        elif response.status_code == 403:\n",
    "            environment.log_error(f\"Permission denied: Cannot create SQL view for {dataset_name}\")\n",
    "        else:\n",
    "            environment.log_error(f\"Error creating SQL view for {dataset_name}: {response.status_code}\")\n",
    "            environment.log_error(response.text)"
   ]
  },
  {
   "cell_type": "code",
   "execution_count": null,
   "metadata": {
    "vscode": {
     "languageId": "plaintext"
    }
   },
   "outputs": [],
   "source": [
    "# Run the function to execute queries\n",
    "execute_queries()\n",
    "\n",
    "environment.log_message('SQL View Creation Completed!')\n",
    "environment.log_message('Data upload completed!')"
   ]
  }
 ],
 "metadata": {
  "language_info": {
   "name": "python"
  }
 },
 "nbformat": 4,
 "nbformat_minor": 2
}
