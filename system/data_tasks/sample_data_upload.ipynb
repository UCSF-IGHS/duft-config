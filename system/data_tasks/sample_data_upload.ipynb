{
 "cells": [
  {
   "cell_type": "code",
   "execution_count": 47,
   "metadata": {},
   "outputs": [],
   "source": [
    "params = {}"
   ]
  },
  {
   "cell_type": "code",
   "execution_count": 48,
   "metadata": {},
   "outputs": [],
   "source": [
    "import time\n",
    "import json\n",
    "import sys\n",
    "\n",
    "from services.dte_tools.data_task_tools import assert_dte_tools_available, get_resolved_parameters_for_connection, initialise_data_task, get_temp_dir, get_data_dir  # noqa: E402"
   ]
  },
  {
   "cell_type": "code",
   "execution_count": 49,
   "metadata": {},
   "outputs": [
    {
     "name": "stdout",
     "output_type": "stream",
     "text": [
      "[2025-04-22T08:38:15.152657] Jupyter Sample Data Upload Task - INFO: Jupyter Sample Data Upload Task initialised running in active mode\n",
      "Jupyter Sample Data Upload Task >>>: Jupyter Sample Data Upload Task initialised running in active mode\n"
     ]
    }
   ],
   "source": [
    "   \n",
    "environment = initialise_data_task(\"Jupyter Sample Data Upload Task\", params=params)\n",
    "params[\"name\"] = params.get(\"customname\", params.get(\"name\", \"No parameters given!\"))\n",
    "\n",
    "if not params:\n",
    "    environment.log_error(\"No parameters given!\")\n",
    "    "
   ]
  },
  {
   "cell_type": "code",
   "execution_count": 50,
   "metadata": {},
   "outputs": [
    {
     "name": "stdout",
     "output_type": "stream",
     "text": [
      "DTE Tools available\n"
     ]
    },
    {
     "ename": "AttributeError",
     "evalue": "'NoneType' object has no attribute 'directories'",
     "output_type": "error",
     "traceback": [
      "\u001b[0;31m---------------------------------------------------------------------------\u001b[0m",
      "\u001b[0;31mAttributeError\u001b[0m                            Traceback (most recent call last)",
      "Cell \u001b[0;32mIn[50], line 5\u001b[0m\n\u001b[1;32m      3\u001b[0m resolved_parameters \u001b[38;5;241m=\u001b[39m get_resolved_parameters_for_connection(\u001b[38;5;124m\"\u001b[39m\u001b[38;5;124mANA\u001b[39m\u001b[38;5;124m\"\u001b[39m)\n\u001b[1;32m      4\u001b[0m resolved_server_api_parameters \u001b[38;5;241m=\u001b[39m get_resolved_parameters_for_connection(\u001b[38;5;124m\"\u001b[39m\u001b[38;5;124mDUFT-SERVER-API\u001b[39m\u001b[38;5;124m\"\u001b[39m)\n\u001b[0;32m----> 5\u001b[0m tmp_dir \u001b[38;5;241m=\u001b[39m \u001b[43mget_temp_dir\u001b[49m\u001b[43m(\u001b[49m\u001b[43m)\u001b[49m\n\u001b[1;32m      6\u001b[0m environment\u001b[38;5;241m.\u001b[39mlog_message(\u001b[38;5;124m'\u001b[39m\u001b[38;5;124mData Upload Starting!\u001b[39m\u001b[38;5;124m'\u001b[39m)\n\u001b[1;32m      7\u001b[0m environment\u001b[38;5;241m.\u001b[39mlog_message(\u001b[38;5;124m\"\u001b[39m\u001b[38;5;124mUsing parameters: \u001b[39m\u001b[38;5;132;01m%s\u001b[39;00m\u001b[38;5;124m\"\u001b[39m \u001b[38;5;241m%\u001b[39m resolved_parameters)\n",
      "File \u001b[0;32m~/Documents/Gikandi/Work/repo/duft-workspace-django/duft-server/services/dte_tools/data_task_tools.py:92\u001b[0m, in \u001b[0;36mget_temp_dir\u001b[0;34m()\u001b[0m\n\u001b[1;32m     91\u001b[0m \u001b[38;5;28;01mdef\u001b[39;00m \u001b[38;5;21mget_temp_dir\u001b[39m() \u001b[38;5;241m-\u001b[39m\u001b[38;5;241m>\u001b[39m \u001b[38;5;28mstr\u001b[39m:\n\u001b[0;32m---> 92\u001b[0m     \u001b[38;5;28;01mreturn\u001b[39;00m \u001b[43mget_duft_config\u001b[49m\u001b[43m(\u001b[49m\u001b[43m)\u001b[49m\u001b[38;5;241;43m.\u001b[39;49m\u001b[43mdirectories\u001b[49m\u001b[38;5;241m.\u001b[39mdata_tasks_temp_directory\n",
      "\u001b[0;31mAttributeError\u001b[0m: 'NoneType' object has no attribute 'directories'"
     ]
    }
   ],
   "source": [
    "assert_dte_tools_available()\n",
    "\n",
    "resolved_parameters = get_resolved_parameters_for_connection(\"ANA\")\n",
    "resolved_server_api_parameters = get_resolved_parameters_for_connection(\"DUFT-SERVER-API\")\n",
    "tmp_dir = get_temp_dir()\n",
    "environment.log_message('Data Upload Starting!')\n",
    "environment.log_message(\"Using parameters: %s\" % resolved_parameters)\n",
    "environment.log_message(\"Using temp directory: %s\" % tmp_dir)\n",
    "    \n",
    "print(resolved_server_api_parameters)"
   ]
  },
  {
   "cell_type": "code",
   "execution_count": null,
   "metadata": {},
   "outputs": [],
   "source": [
    "# Load sample dataset from SQL File\n",
    "\n",
    "import pandas as pd\n",
    "import sqlite3\n",
    "import os\n",
    "\n",
    "# Load the data\n",
    "conn = sqlite3.connect(os.path.join(get_data_dir(), resolved_parameters['sqlite3file']))\n",
    "data = pd.read_sql_query(\"SELECT * FROM dim_client LIMIT 20\", conn)\n",
    "conn.close()\n",
    "\n",
    "file_to_save = os.path.join(tmp_dir, 'dim_client_sample.csv')\n",
    "data.to_csv(file_to_save, index=False)\n",
    "\n",
    "data.head()\n",
    "\n"
   ]
  },
  {
   "cell_type": "code",
   "execution_count": null,
   "metadata": {},
   "outputs": [],
   "source": [
    "try:\n",
    "    post_file_to_duft_server(\n",
    "        resolved_server_api_parameters[\"server\"], \n",
    "        resolved_server_api_parameters[\"username\"], \n",
    "        resolved_server_api_parameters[\"password\"], \n",
    "        file_to_save, \n",
    "        \"client-list\")\n",
    "    \n",
    "    environment.log_message('Data Upload Complete!')\n",
    "\n",
    "except Exception as e:\n",
    "    environment.log_error(f\"Failed to upload file: {e}\")\n",
    "\n"
   ]
  },
  {
   "cell_type": "code",
   "execution_count": null,
   "metadata": {},
   "outputs": [],
   "source": [
    "if os.path.exists(file_to_save):\n",
    "    os.remove(file_to_save)\n",
    "    environment.log_message(f\"Removing data file: {file_to_save}\")\n",
    "else:\n",
    "    environment.log_message(f\"File does not exist: {file_to_save}\")"
   ]
  },
  {
   "cell_type": "code",
   "execution_count": null,
   "metadata": {},
   "outputs": [],
   "source": [
    "\n",
    "environment.log_message('Data Upload Completed!')"
   ]
  }
 ],
 "metadata": {
  "kernelspec": {
   "display_name": ".venv",
   "language": "python",
   "name": "python3"
  },
  "language_info": {
   "codemirror_mode": {
    "name": "ipython",
    "version": 3
   },
   "file_extension": ".py",
   "mimetype": "text/x-python",
   "name": "python",
   "nbconvert_exporter": "python",
   "pygments_lexer": "ipython3",
   "version": "3.11.5"
  }
 },
 "nbformat": 4,
 "nbformat_minor": 2
}
