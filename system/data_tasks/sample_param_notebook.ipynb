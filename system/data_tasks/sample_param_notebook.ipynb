{
 "cells": [
  {
   "cell_type": "code",
   "execution_count": 25,
   "metadata": {},
   "outputs": [],
   "source": [
    "params = {}"
   ]
  },
  {
   "cell_type": "code",
   "execution_count": 26,
   "metadata": {},
   "outputs": [],
   "source": [
    "from services.dte_tools.data_task_tools import assert_dte_tools_available, get_resolved_parameters_for_connection, initialise_data_task  # noqa: E402"
   ]
  },
  {
   "cell_type": "code",
   "execution_count": 27,
   "metadata": {},
   "outputs": [
    {
     "name": "stdout",
     "output_type": "stream",
     "text": [
      "[2025-03-03T16:44:02.132169] Jupyter Sample Data Task - INFO: Jupyter Sample Data Task initialised running in active mode\n",
      "Jupyter Sample Data Task >>>: Jupyter Sample Data Task initialised running in active mode\n"
     ]
    }
   ],
   "source": [
    "environment = initialise_data_task(\"Jupyter Sample Data Task\", params=params)\n",
    "params[\"gender\"] = params.get(\"gender\", \"Female\")\n",
    "\n",
    "if not params:\n",
    "    environment.log_error(\"No parameters given!\")"
   ]
  },
  {
   "cell_type": "code",
   "execution_count": 28,
   "metadata": {},
   "outputs": [],
   "source": [
    "def sample_task():\n",
    "    environment.log_message('Script starting!')\n",
    "    environment.log_message(\"Using data parameters: %s\" % params)"
   ]
  },
  {
   "cell_type": "code",
   "execution_count": 29,
   "metadata": {},
   "outputs": [
    {
     "name": "stdout",
     "output_type": "stream",
     "text": [
      "DTE Tools available\n",
      "[2025-03-03T16:44:02.140267] Jupyter Sample Data Task - INFO: Script starting!\n",
      "Jupyter Sample Data Task >>>: Script starting!\n",
      "[2025-03-03T16:44:02.141163] Jupyter Sample Data Task - INFO: Using data parameters: {'gender': 'Female'}\n",
      "Jupyter Sample Data Task >>>: Using data parameters: {'gender': 'Female'}\n"
     ]
    }
   ],
   "source": [
    "assert_dte_tools_available()\n",
    "sample_task()"
   ]
  },
  {
   "cell_type": "code",
   "execution_count": 30,
   "metadata": {},
   "outputs": [
    {
     "name": "stdout",
     "output_type": "stream",
     "text": [
      "[2025-03-03T16:44:02.145259] Jupyter Sample Data Task - INFO: Script completed!\n",
      "Jupyter Sample Data Task >>>: Script completed!\n"
     ]
    }
   ],
   "source": [
    "\n",
    "environment.log_message('Script completed!')"
   ]
  }
 ],
 "metadata": {
  "kernelspec": {
   "display_name": ".venv",
   "language": "python",
   "name": "python3"
  },
  "language_info": {
   "codemirror_mode": {
    "name": "ipython",
    "version": 3
   },
   "file_extension": ".py",
   "mimetype": "text/x-python",
   "name": "python",
   "nbconvert_exporter": "python",
   "pygments_lexer": "ipython3",
   "version": "3.11.5"
  }
 },
 "nbformat": 4,
 "nbformat_minor": 2
}
